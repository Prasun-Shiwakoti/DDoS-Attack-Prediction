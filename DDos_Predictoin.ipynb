{
  "cells": [
    {
      "cell_type": "code",
      "execution_count": 4,
      "metadata": {
        "id": "5jn2HaZZ7BfA"
      },
      "outputs": [],
      "source": [
        "import pandas as pd\n",
        "import numpy as np\n",
        "import matplotlib.pyplot as plt\n",
        "import seaborn as sns\n",
        "\n",
        "import joblib\n",
        "%matplotlib inline"
      ]
    },
    {
      "cell_type": "code",
      "execution_count": 5,
      "metadata": {
        "id": "U0bQatnZKCgz"
      },
      "outputs": [],
      "source": [
        "from sklearn.preprocessing import StandardScaler\n",
        "from sklearn.decomposition import PCA\n",
        "\n",
        "from sklearn.ensemble import RandomForestClassifier\n",
        "from sklearn.metrics import classification_report, confusion_matrix, roc_curve, auc\n",
        "\n",
        "from imblearn.over_sampling import SMOTE\n",
        "from imblearn.pipeline import Pipeline\n"
      ]
    },
    {
      "cell_type": "code",
      "execution_count": 6,
      "metadata": {
        "id": "ImfmE-Nq7fhr"
      },
      "outputs": [],
      "source": [
        "# import dataset\n",
        "df = pd.read_csv(\"Dataset/cicddos2019.csv\")"
      ]
    },
    {
      "cell_type": "code",
      "execution_count": 7,
      "metadata": {
        "colab": {
          "base_uri": "https://localhost:8080/",
          "height": 307
        },
        "id": "4Tg2eK7I7vrx",
        "outputId": "93e02ea7-0001-460c-f7fc-da92634f6348"
      },
      "outputs": [
        {
          "data": {
            "text/html": [
              "<div>\n",
              "<style scoped>\n",
              "    .dataframe tbody tr th:only-of-type {\n",
              "        vertical-align: middle;\n",
              "    }\n",
              "\n",
              "    .dataframe tbody tr th {\n",
              "        vertical-align: top;\n",
              "    }\n",
              "\n",
              "    .dataframe thead th {\n",
              "        text-align: right;\n",
              "    }\n",
              "</style>\n",
              "<table border=\"1\" class=\"dataframe\">\n",
              "  <thead>\n",
              "    <tr style=\"text-align: right;\">\n",
              "      <th></th>\n",
              "      <th>Unnamed: 0</th>\n",
              "      <th>Protocol</th>\n",
              "      <th>Flow Duration</th>\n",
              "      <th>Total Fwd Packets</th>\n",
              "      <th>Total Backward Packets</th>\n",
              "      <th>Fwd Packets Length Total</th>\n",
              "      <th>Bwd Packets Length Total</th>\n",
              "      <th>Fwd Packet Length Max</th>\n",
              "      <th>Fwd Packet Length Min</th>\n",
              "      <th>Fwd Packet Length Mean</th>\n",
              "      <th>...</th>\n",
              "      <th>Active Mean</th>\n",
              "      <th>Active Std</th>\n",
              "      <th>Active Max</th>\n",
              "      <th>Active Min</th>\n",
              "      <th>Idle Mean</th>\n",
              "      <th>Idle Std</th>\n",
              "      <th>Idle Max</th>\n",
              "      <th>Idle Min</th>\n",
              "      <th>Label</th>\n",
              "      <th>Class</th>\n",
              "    </tr>\n",
              "  </thead>\n",
              "  <tbody>\n",
              "    <tr>\n",
              "      <th>0</th>\n",
              "      <td>271174</td>\n",
              "      <td>17</td>\n",
              "      <td>449</td>\n",
              "      <td>98</td>\n",
              "      <td>0</td>\n",
              "      <td>42832.0</td>\n",
              "      <td>0.0</td>\n",
              "      <td>440.0</td>\n",
              "      <td>296.0</td>\n",
              "      <td>437.06122</td>\n",
              "      <td>...</td>\n",
              "      <td>0.0</td>\n",
              "      <td>0.0</td>\n",
              "      <td>0.0</td>\n",
              "      <td>0.0</td>\n",
              "      <td>0.0</td>\n",
              "      <td>0.0</td>\n",
              "      <td>0.0</td>\n",
              "      <td>0.0</td>\n",
              "      <td>DrDoS_NTP</td>\n",
              "      <td>Attack</td>\n",
              "    </tr>\n",
              "    <tr>\n",
              "      <th>1</th>\n",
              "      <td>24038</td>\n",
              "      <td>6</td>\n",
              "      <td>16696066</td>\n",
              "      <td>8</td>\n",
              "      <td>6</td>\n",
              "      <td>48.0</td>\n",
              "      <td>36.0</td>\n",
              "      <td>6.0</td>\n",
              "      <td>6.0</td>\n",
              "      <td>6.00000</td>\n",
              "      <td>...</td>\n",
              "      <td>499965.0</td>\n",
              "      <td>706911.6</td>\n",
              "      <td>999827.0</td>\n",
              "      <td>103.0</td>\n",
              "      <td>7848067.5</td>\n",
              "      <td>1628737.8</td>\n",
              "      <td>8999759.0</td>\n",
              "      <td>6696376.0</td>\n",
              "      <td>Syn</td>\n",
              "      <td>Attack</td>\n",
              "    </tr>\n",
              "    <tr>\n",
              "      <th>2</th>\n",
              "      <td>44954</td>\n",
              "      <td>17</td>\n",
              "      <td>3008437</td>\n",
              "      <td>4</td>\n",
              "      <td>0</td>\n",
              "      <td>2064.0</td>\n",
              "      <td>0.0</td>\n",
              "      <td>516.0</td>\n",
              "      <td>516.0</td>\n",
              "      <td>516.00000</td>\n",
              "      <td>...</td>\n",
              "      <td>0.0</td>\n",
              "      <td>0.0</td>\n",
              "      <td>0.0</td>\n",
              "      <td>0.0</td>\n",
              "      <td>0.0</td>\n",
              "      <td>0.0</td>\n",
              "      <td>0.0</td>\n",
              "      <td>0.0</td>\n",
              "      <td>TFTP</td>\n",
              "      <td>Attack</td>\n",
              "    </tr>\n",
              "    <tr>\n",
              "      <th>3</th>\n",
              "      <td>53199</td>\n",
              "      <td>17</td>\n",
              "      <td>3112318</td>\n",
              "      <td>4</td>\n",
              "      <td>0</td>\n",
              "      <td>2064.0</td>\n",
              "      <td>0.0</td>\n",
              "      <td>516.0</td>\n",
              "      <td>516.0</td>\n",
              "      <td>516.00000</td>\n",
              "      <td>...</td>\n",
              "      <td>0.0</td>\n",
              "      <td>0.0</td>\n",
              "      <td>0.0</td>\n",
              "      <td>0.0</td>\n",
              "      <td>0.0</td>\n",
              "      <td>0.0</td>\n",
              "      <td>0.0</td>\n",
              "      <td>0.0</td>\n",
              "      <td>TFTP</td>\n",
              "      <td>Attack</td>\n",
              "    </tr>\n",
              "    <tr>\n",
              "      <th>4</th>\n",
              "      <td>8940</td>\n",
              "      <td>17</td>\n",
              "      <td>215106</td>\n",
              "      <td>6</td>\n",
              "      <td>0</td>\n",
              "      <td>2088.0</td>\n",
              "      <td>0.0</td>\n",
              "      <td>393.0</td>\n",
              "      <td>321.0</td>\n",
              "      <td>348.00000</td>\n",
              "      <td>...</td>\n",
              "      <td>0.0</td>\n",
              "      <td>0.0</td>\n",
              "      <td>0.0</td>\n",
              "      <td>0.0</td>\n",
              "      <td>0.0</td>\n",
              "      <td>0.0</td>\n",
              "      <td>0.0</td>\n",
              "      <td>0.0</td>\n",
              "      <td>UDP</td>\n",
              "      <td>Attack</td>\n",
              "    </tr>\n",
              "  </tbody>\n",
              "</table>\n",
              "<p>5 rows × 80 columns</p>\n",
              "</div>"
            ],
            "text/plain": [
              "   Unnamed: 0  Protocol  Flow Duration  Total Fwd Packets  \\\n",
              "0      271174        17            449                 98   \n",
              "1       24038         6       16696066                  8   \n",
              "2       44954        17        3008437                  4   \n",
              "3       53199        17        3112318                  4   \n",
              "4        8940        17         215106                  6   \n",
              "\n",
              "   Total Backward Packets  Fwd Packets Length Total  Bwd Packets Length Total  \\\n",
              "0                       0                   42832.0                       0.0   \n",
              "1                       6                      48.0                      36.0   \n",
              "2                       0                    2064.0                       0.0   \n",
              "3                       0                    2064.0                       0.0   \n",
              "4                       0                    2088.0                       0.0   \n",
              "\n",
              "   Fwd Packet Length Max  Fwd Packet Length Min  Fwd Packet Length Mean  ...  \\\n",
              "0                  440.0                  296.0               437.06122  ...   \n",
              "1                    6.0                    6.0                 6.00000  ...   \n",
              "2                  516.0                  516.0               516.00000  ...   \n",
              "3                  516.0                  516.0               516.00000  ...   \n",
              "4                  393.0                  321.0               348.00000  ...   \n",
              "\n",
              "   Active Mean  Active Std  Active Max  Active Min  Idle Mean   Idle Std  \\\n",
              "0          0.0         0.0         0.0         0.0        0.0        0.0   \n",
              "1     499965.0    706911.6    999827.0       103.0  7848067.5  1628737.8   \n",
              "2          0.0         0.0         0.0         0.0        0.0        0.0   \n",
              "3          0.0         0.0         0.0         0.0        0.0        0.0   \n",
              "4          0.0         0.0         0.0         0.0        0.0        0.0   \n",
              "\n",
              "    Idle Max   Idle Min      Label   Class  \n",
              "0        0.0        0.0  DrDoS_NTP  Attack  \n",
              "1  8999759.0  6696376.0        Syn  Attack  \n",
              "2        0.0        0.0       TFTP  Attack  \n",
              "3        0.0        0.0       TFTP  Attack  \n",
              "4        0.0        0.0        UDP  Attack  \n",
              "\n",
              "[5 rows x 80 columns]"
            ]
          },
          "execution_count": 7,
          "metadata": {},
          "output_type": "execute_result"
        }
      ],
      "source": [
        "# display first 10 values\n",
        "df.head()"
      ]
    },
    {
      "cell_type": "code",
      "execution_count": 8,
      "metadata": {
        "colab": {
          "base_uri": "https://localhost:8080/"
        },
        "id": "3jTS7hTRAVIB",
        "outputId": "85ef3ded-f7da-4d4a-f539-913c54bf1d66"
      },
      "outputs": [
        {
          "name": "stdout",
          "output_type": "stream",
          "text": [
            "<class 'pandas.core.frame.DataFrame'>\n",
            "RangeIndex: 50000 entries, 0 to 49999\n",
            "Data columns (total 80 columns):\n",
            " #   Column                    Non-Null Count  Dtype  \n",
            "---  ------                    --------------  -----  \n",
            " 0   Unnamed: 0                50000 non-null  int64  \n",
            " 1   Protocol                  50000 non-null  int64  \n",
            " 2   Flow Duration             50000 non-null  int64  \n",
            " 3   Total Fwd Packets         50000 non-null  int64  \n",
            " 4   Total Backward Packets    50000 non-null  int64  \n",
            " 5   Fwd Packets Length Total  50000 non-null  float64\n",
            " 6   Bwd Packets Length Total  50000 non-null  float64\n",
            " 7   Fwd Packet Length Max     50000 non-null  float64\n",
            " 8   Fwd Packet Length Min     50000 non-null  float64\n",
            " 9   Fwd Packet Length Mean    50000 non-null  float64\n",
            " 10  Fwd Packet Length Std     50000 non-null  float64\n",
            " 11  Bwd Packet Length Max     50000 non-null  float64\n",
            " 12  Bwd Packet Length Min     50000 non-null  float64\n",
            " 13  Bwd Packet Length Mean    50000 non-null  float64\n",
            " 14  Bwd Packet Length Std     50000 non-null  float64\n",
            " 15  Flow Bytes/s              50000 non-null  float64\n",
            " 16  Flow Packets/s            50000 non-null  float64\n",
            " 17  Flow IAT Mean             50000 non-null  float64\n",
            " 18  Flow IAT Std              50000 non-null  float64\n",
            " 19  Flow IAT Max              50000 non-null  float64\n",
            " 20  Flow IAT Min              50000 non-null  float64\n",
            " 21  Fwd IAT Total             50000 non-null  float64\n",
            " 22  Fwd IAT Mean              50000 non-null  float64\n",
            " 23  Fwd IAT Std               50000 non-null  float64\n",
            " 24  Fwd IAT Max               50000 non-null  float64\n",
            " 25  Fwd IAT Min               50000 non-null  float64\n",
            " 26  Bwd IAT Total             50000 non-null  float64\n",
            " 27  Bwd IAT Mean              50000 non-null  float64\n",
            " 28  Bwd IAT Std               50000 non-null  float64\n",
            " 29  Bwd IAT Max               50000 non-null  float64\n",
            " 30  Bwd IAT Min               50000 non-null  float64\n",
            " 31  Fwd PSH Flags             50000 non-null  int64  \n",
            " 32  Bwd PSH Flags             50000 non-null  int64  \n",
            " 33  Fwd URG Flags             50000 non-null  int64  \n",
            " 34  Bwd URG Flags             50000 non-null  int64  \n",
            " 35  Fwd Header Length         50000 non-null  int64  \n",
            " 36  Bwd Header Length         50000 non-null  int64  \n",
            " 37  Fwd Packets/s             50000 non-null  float64\n",
            " 38  Bwd Packets/s             50000 non-null  float64\n",
            " 39  Packet Length Min         50000 non-null  float64\n",
            " 40  Packet Length Max         50000 non-null  float64\n",
            " 41  Packet Length Mean        50000 non-null  float64\n",
            " 42  Packet Length Std         50000 non-null  float64\n",
            " 43  Packet Length Variance    50000 non-null  float64\n",
            " 44  FIN Flag Count            50000 non-null  int64  \n",
            " 45  SYN Flag Count            50000 non-null  int64  \n",
            " 46  RST Flag Count            50000 non-null  int64  \n",
            " 47  PSH Flag Count            50000 non-null  int64  \n",
            " 48  ACK Flag Count            50000 non-null  int64  \n",
            " 49  URG Flag Count            50000 non-null  int64  \n",
            " 50  CWE Flag Count            50000 non-null  int64  \n",
            " 51  ECE Flag Count            50000 non-null  int64  \n",
            " 52  Down/Up Ratio             50000 non-null  float64\n",
            " 53  Avg Packet Size           50000 non-null  float64\n",
            " 54  Avg Fwd Segment Size      50000 non-null  float64\n",
            " 55  Avg Bwd Segment Size      50000 non-null  float64\n",
            " 56  Fwd Avg Bytes/Bulk        50000 non-null  int64  \n",
            " 57  Fwd Avg Packets/Bulk      50000 non-null  int64  \n",
            " 58  Fwd Avg Bulk Rate         50000 non-null  int64  \n",
            " 59  Bwd Avg Bytes/Bulk        50000 non-null  int64  \n",
            " 60  Bwd Avg Packets/Bulk      50000 non-null  int64  \n",
            " 61  Bwd Avg Bulk Rate         50000 non-null  int64  \n",
            " 62  Subflow Fwd Packets       50000 non-null  int64  \n",
            " 63  Subflow Fwd Bytes         50000 non-null  int64  \n",
            " 64  Subflow Bwd Packets       50000 non-null  int64  \n",
            " 65  Subflow Bwd Bytes         50000 non-null  int64  \n",
            " 66  Init Fwd Win Bytes        50000 non-null  int64  \n",
            " 67  Init Bwd Win Bytes        50000 non-null  int64  \n",
            " 68  Fwd Act Data Packets      50000 non-null  int64  \n",
            " 69  Fwd Seg Size Min          50000 non-null  int64  \n",
            " 70  Active Mean               50000 non-null  float64\n",
            " 71  Active Std                50000 non-null  float64\n",
            " 72  Active Max                50000 non-null  float64\n",
            " 73  Active Min                50000 non-null  float64\n",
            " 74  Idle Mean                 50000 non-null  float64\n",
            " 75  Idle Std                  50000 non-null  float64\n",
            " 76  Idle Max                  50000 non-null  float64\n",
            " 77  Idle Min                  50000 non-null  float64\n",
            " 78  Label                     50000 non-null  object \n",
            " 79  Class                     50000 non-null  object \n",
            "dtypes: float64(45), int64(33), object(2)\n",
            "memory usage: 30.5+ MB\n"
          ]
        }
      ],
      "source": [
        "df.info()"
      ]
    },
    {
      "cell_type": "code",
      "execution_count": 9,
      "metadata": {
        "id": "dVheBTO7Aeyr"
      },
      "outputs": [],
      "source": [
        "# drop label column as it isn't important for this project\n",
        "df.drop(['Label', 'Unnamed: 0'], axis=1, inplace=True)"
      ]
    },
    {
      "cell_type": "code",
      "execution_count": 10,
      "metadata": {
        "colab": {
          "base_uri": "https://localhost:8080/"
        },
        "id": "5ppTJOzqNldf",
        "outputId": "ffaa6f86-02b7-4f14-ae6b-1d861baaaf52"
      },
      "outputs": [
        {
          "data": {
            "text/plain": [
              "Index(['Protocol', 'Flow Duration', 'Total Fwd Packets',\n",
              "       'Total Backward Packets', 'Fwd Packets Length Total',\n",
              "       'Bwd Packets Length Total', 'Fwd Packet Length Max',\n",
              "       'Fwd Packet Length Min', 'Fwd Packet Length Mean',\n",
              "       'Fwd Packet Length Std', 'Bwd Packet Length Max',\n",
              "       'Bwd Packet Length Min', 'Bwd Packet Length Mean',\n",
              "       'Bwd Packet Length Std', 'Flow Bytes/s', 'Flow Packets/s',\n",
              "       'Flow IAT Mean', 'Flow IAT Std', 'Flow IAT Max', 'Flow IAT Min',\n",
              "       'Fwd IAT Total', 'Fwd IAT Mean', 'Fwd IAT Std', 'Fwd IAT Max',\n",
              "       'Fwd IAT Min', 'Bwd IAT Total', 'Bwd IAT Mean', 'Bwd IAT Std',\n",
              "       'Bwd IAT Max', 'Bwd IAT Min', 'Fwd PSH Flags', 'Bwd PSH Flags',\n",
              "       'Fwd URG Flags', 'Bwd URG Flags', 'Fwd Header Length',\n",
              "       'Bwd Header Length', 'Fwd Packets/s', 'Bwd Packets/s',\n",
              "       'Packet Length Min', 'Packet Length Max', 'Packet Length Mean',\n",
              "       'Packet Length Std', 'Packet Length Variance', 'FIN Flag Count',\n",
              "       'SYN Flag Count', 'RST Flag Count', 'PSH Flag Count', 'ACK Flag Count',\n",
              "       'URG Flag Count', 'CWE Flag Count', 'ECE Flag Count', 'Down/Up Ratio',\n",
              "       'Avg Packet Size', 'Avg Fwd Segment Size', 'Avg Bwd Segment Size',\n",
              "       'Fwd Avg Bytes/Bulk', 'Fwd Avg Packets/Bulk', 'Fwd Avg Bulk Rate',\n",
              "       'Bwd Avg Bytes/Bulk', 'Bwd Avg Packets/Bulk', 'Bwd Avg Bulk Rate',\n",
              "       'Subflow Fwd Packets', 'Subflow Fwd Bytes', 'Subflow Bwd Packets',\n",
              "       'Subflow Bwd Bytes', 'Init Fwd Win Bytes', 'Init Bwd Win Bytes',\n",
              "       'Fwd Act Data Packets', 'Fwd Seg Size Min', 'Active Mean', 'Active Std',\n",
              "       'Active Max', 'Active Min', 'Idle Mean', 'Idle Std', 'Idle Max',\n",
              "       'Idle Min', 'Class'],\n",
              "      dtype='object')"
            ]
          },
          "execution_count": 10,
          "metadata": {},
          "output_type": "execute_result"
        }
      ],
      "source": [
        "df.columns"
      ]
    },
    {
      "cell_type": "code",
      "execution_count": 11,
      "metadata": {
        "id": "f6j7hum9Audg"
      },
      "outputs": [],
      "source": [
        "# label attack as 1 and benign as 0\n",
        "df['Class'] = df['Class'].apply(lambda x: 1 if x=='Attack' else 0)"
      ]
    },
    {
      "cell_type": "code",
      "execution_count": 12,
      "metadata": {
        "colab": {
          "base_uri": "https://localhost:8080/",
          "height": 178
        },
        "id": "_w52aCWu73O0",
        "outputId": "ef6f2b20-0ec1-4b71-cc0c-d73859382c23"
      },
      "outputs": [
        {
          "data": {
            "text/plain": [
              "Class\n",
              "1    38607\n",
              "0    11393\n",
              "Name: count, dtype: int64"
            ]
          },
          "execution_count": 12,
          "metadata": {},
          "output_type": "execute_result"
        }
      ],
      "source": [
        "df['Class'].value_counts()"
      ]
    },
    {
      "cell_type": "code",
      "execution_count": 13,
      "metadata": {
        "id": "hVPoM2CL-Bub"
      },
      "outputs": [],
      "source": [
        "# Train and Test Split\n",
        "\n",
        "test_size = 3000\n",
        "\n",
        "# separate classes\n",
        "attack_df = df[df['Class'] == 1]\n",
        "benign_df = df[df['Class'] == 0]\n",
        "\n",
        "# sample equal number of rows from both\n",
        "attack_test = attack_df.sample(n=test_size, random_state=42)\n",
        "benign_test = benign_df.sample(n=test_size, random_state=42)\n",
        "\n",
        "# combine\n",
        "test_df = pd.concat([attack_test, benign_test])\n",
        "train_df = df.drop(test_df.index)\n"
      ]
    },
    {
      "cell_type": "code",
      "execution_count": 14,
      "metadata": {
        "colab": {
          "base_uri": "https://localhost:8080/",
          "height": 178
        },
        "id": "wD1LvMzoFaq2",
        "outputId": "13f143ed-7af2-40f1-f9d8-a5431700dcda"
      },
      "outputs": [
        {
          "data": {
            "text/plain": [
              "Class\n",
              "1    3000\n",
              "0    3000\n",
              "Name: count, dtype: int64"
            ]
          },
          "execution_count": 14,
          "metadata": {},
          "output_type": "execute_result"
        }
      ],
      "source": [
        "# checking the distribution\n",
        "test_df['Class'].value_counts()"
      ]
    },
    {
      "cell_type": "code",
      "execution_count": 15,
      "metadata": {
        "colab": {
          "base_uri": "https://localhost:8080/",
          "height": 178
        },
        "id": "gMcT6fGcGbKs",
        "outputId": "08e34294-7067-42df-aeab-fdc9978dc42a"
      },
      "outputs": [
        {
          "data": {
            "text/plain": [
              "Class\n",
              "1    35607\n",
              "0     8393\n",
              "Name: count, dtype: int64"
            ]
          },
          "execution_count": 15,
          "metadata": {},
          "output_type": "execute_result"
        }
      ],
      "source": [
        "train_df['Class'].value_counts()"
      ]
    },
    {
      "cell_type": "code",
      "execution_count": 16,
      "metadata": {
        "id": "4wAGiX7UOVWF"
      },
      "outputs": [],
      "source": [
        "# separate features and label\n",
        "X_train = train_df.drop('Class', axis=1)\n",
        "y_train = train_df['Class']\n",
        "\n",
        "# standardize features\n",
        "scaler = StandardScaler()\n",
        "X_train_scaled = scaler.fit_transform(X_train)"
      ]
    },
    {
      "cell_type": "code",
      "execution_count": 17,
      "metadata": {
        "colab": {
          "base_uri": "https://localhost:8080/"
        },
        "id": "Uk2bNv_LPCKb",
        "outputId": "ee645ada-eab9-424c-fdbd-fa3953876e63"
      },
      "outputs": [
        {
          "name": "stdout",
          "output_type": "stream",
          "text": [
            "Original shape: (44000, 77)\n",
            "Reduced shape: (44000, 22)\n"
          ]
        }
      ],
      "source": [
        "# keep enough components to explain 95% variance\n",
        "pca = PCA(n_components=0.95, random_state=42)\n",
        "X_train_pca = pca.fit_transform(X_train_scaled)\n",
        "\n",
        "print(f\"Original shape: {X_train_scaled.shape}\")\n",
        "print(f\"Reduced shape: {X_train_pca.shape}\")"
      ]
    },
    {
      "cell_type": "code",
      "execution_count": 18,
      "metadata": {
        "colab": {
          "base_uri": "https://localhost:8080/",
          "height": 255
        },
        "id": "8sXi81PjPG1F",
        "outputId": "76d0e536-f0fb-40c9-b64e-81784fb066ad"
      },
      "outputs": [
        {
          "data": {
            "text/html": [
              "<div>\n",
              "<style scoped>\n",
              "    .dataframe tbody tr th:only-of-type {\n",
              "        vertical-align: middle;\n",
              "    }\n",
              "\n",
              "    .dataframe tbody tr th {\n",
              "        vertical-align: top;\n",
              "    }\n",
              "\n",
              "    .dataframe thead th {\n",
              "        text-align: right;\n",
              "    }\n",
              "</style>\n",
              "<table border=\"1\" class=\"dataframe\">\n",
              "  <thead>\n",
              "    <tr style=\"text-align: right;\">\n",
              "      <th></th>\n",
              "      <th>0</th>\n",
              "      <th>1</th>\n",
              "      <th>2</th>\n",
              "      <th>3</th>\n",
              "      <th>4</th>\n",
              "      <th>5</th>\n",
              "      <th>6</th>\n",
              "      <th>7</th>\n",
              "      <th>8</th>\n",
              "      <th>9</th>\n",
              "      <th>...</th>\n",
              "      <th>13</th>\n",
              "      <th>14</th>\n",
              "      <th>15</th>\n",
              "      <th>16</th>\n",
              "      <th>17</th>\n",
              "      <th>18</th>\n",
              "      <th>19</th>\n",
              "      <th>20</th>\n",
              "      <th>21</th>\n",
              "      <th>Class</th>\n",
              "    </tr>\n",
              "  </thead>\n",
              "  <tbody>\n",
              "    <tr>\n",
              "      <th>0</th>\n",
              "      <td>-2.227236</td>\n",
              "      <td>0.809736</td>\n",
              "      <td>-0.219436</td>\n",
              "      <td>3.203830</td>\n",
              "      <td>0.024040</td>\n",
              "      <td>0.683881</td>\n",
              "      <td>0.157696</td>\n",
              "      <td>0.039861</td>\n",
              "      <td>-0.357240</td>\n",
              "      <td>-0.026757</td>\n",
              "      <td>...</td>\n",
              "      <td>0.037024</td>\n",
              "      <td>0.125863</td>\n",
              "      <td>0.009152</td>\n",
              "      <td>0.062137</td>\n",
              "      <td>-0.177210</td>\n",
              "      <td>-0.129162</td>\n",
              "      <td>-0.056691</td>\n",
              "      <td>0.102383</td>\n",
              "      <td>0.206936</td>\n",
              "      <td>1</td>\n",
              "    </tr>\n",
              "    <tr>\n",
              "      <th>1</th>\n",
              "      <td>4.405746</td>\n",
              "      <td>-1.646128</td>\n",
              "      <td>0.508345</td>\n",
              "      <td>0.305536</td>\n",
              "      <td>1.818056</td>\n",
              "      <td>-1.066640</td>\n",
              "      <td>-1.009061</td>\n",
              "      <td>-0.571557</td>\n",
              "      <td>-0.156857</td>\n",
              "      <td>0.225008</td>\n",
              "      <td>...</td>\n",
              "      <td>1.646159</td>\n",
              "      <td>-0.633106</td>\n",
              "      <td>0.005530</td>\n",
              "      <td>-0.409171</td>\n",
              "      <td>0.209364</td>\n",
              "      <td>-0.027442</td>\n",
              "      <td>0.322051</td>\n",
              "      <td>-0.956617</td>\n",
              "      <td>-0.013039</td>\n",
              "      <td>1</td>\n",
              "    </tr>\n",
              "    <tr>\n",
              "      <th>2</th>\n",
              "      <td>-1.468071</td>\n",
              "      <td>0.198517</td>\n",
              "      <td>-1.078484</td>\n",
              "      <td>-0.976924</td>\n",
              "      <td>-0.378763</td>\n",
              "      <td>-0.920336</td>\n",
              "      <td>-0.120468</td>\n",
              "      <td>0.107950</td>\n",
              "      <td>0.481045</td>\n",
              "      <td>0.541013</td>\n",
              "      <td>...</td>\n",
              "      <td>-0.023523</td>\n",
              "      <td>-0.083529</td>\n",
              "      <td>0.007211</td>\n",
              "      <td>-0.084396</td>\n",
              "      <td>0.075929</td>\n",
              "      <td>0.206610</td>\n",
              "      <td>0.012981</td>\n",
              "      <td>-0.163731</td>\n",
              "      <td>-0.067050</td>\n",
              "      <td>1</td>\n",
              "    </tr>\n",
              "    <tr>\n",
              "      <th>3</th>\n",
              "      <td>-1.444542</td>\n",
              "      <td>0.196194</td>\n",
              "      <td>-1.095732</td>\n",
              "      <td>-0.977415</td>\n",
              "      <td>-0.382440</td>\n",
              "      <td>-0.927134</td>\n",
              "      <td>-0.111294</td>\n",
              "      <td>0.116522</td>\n",
              "      <td>0.480728</td>\n",
              "      <td>0.543994</td>\n",
              "      <td>...</td>\n",
              "      <td>-0.023556</td>\n",
              "      <td>-0.086390</td>\n",
              "      <td>0.008411</td>\n",
              "      <td>-0.088642</td>\n",
              "      <td>0.076000</td>\n",
              "      <td>0.211705</td>\n",
              "      <td>0.011877</td>\n",
              "      <td>-0.158770</td>\n",
              "      <td>-0.065310</td>\n",
              "      <td>1</td>\n",
              "    </tr>\n",
              "    <tr>\n",
              "      <th>4</th>\n",
              "      <td>11.651772</td>\n",
              "      <td>-1.430978</td>\n",
              "      <td>-4.393466</td>\n",
              "      <td>0.969940</td>\n",
              "      <td>-0.152697</td>\n",
              "      <td>1.964668</td>\n",
              "      <td>-0.079359</td>\n",
              "      <td>-4.355263</td>\n",
              "      <td>-0.828411</td>\n",
              "      <td>-2.274726</td>\n",
              "      <td>...</td>\n",
              "      <td>-2.512597</td>\n",
              "      <td>-0.600275</td>\n",
              "      <td>0.771227</td>\n",
              "      <td>-0.507090</td>\n",
              "      <td>-0.315605</td>\n",
              "      <td>2.703383</td>\n",
              "      <td>-2.071374</td>\n",
              "      <td>1.207711</td>\n",
              "      <td>-0.306081</td>\n",
              "      <td>1</td>\n",
              "    </tr>\n",
              "  </tbody>\n",
              "</table>\n",
              "<p>5 rows × 23 columns</p>\n",
              "</div>"
            ],
            "text/plain": [
              "           0         1         2         3         4         5         6  \\\n",
              "0  -2.227236  0.809736 -0.219436  3.203830  0.024040  0.683881  0.157696   \n",
              "1   4.405746 -1.646128  0.508345  0.305536  1.818056 -1.066640 -1.009061   \n",
              "2  -1.468071  0.198517 -1.078484 -0.976924 -0.378763 -0.920336 -0.120468   \n",
              "3  -1.444542  0.196194 -1.095732 -0.977415 -0.382440 -0.927134 -0.111294   \n",
              "4  11.651772 -1.430978 -4.393466  0.969940 -0.152697  1.964668 -0.079359   \n",
              "\n",
              "          7         8         9  ...        13        14        15        16  \\\n",
              "0  0.039861 -0.357240 -0.026757  ...  0.037024  0.125863  0.009152  0.062137   \n",
              "1 -0.571557 -0.156857  0.225008  ...  1.646159 -0.633106  0.005530 -0.409171   \n",
              "2  0.107950  0.481045  0.541013  ... -0.023523 -0.083529  0.007211 -0.084396   \n",
              "3  0.116522  0.480728  0.543994  ... -0.023556 -0.086390  0.008411 -0.088642   \n",
              "4 -4.355263 -0.828411 -2.274726  ... -2.512597 -0.600275  0.771227 -0.507090   \n",
              "\n",
              "         17        18        19        20        21  Class  \n",
              "0 -0.177210 -0.129162 -0.056691  0.102383  0.206936      1  \n",
              "1  0.209364 -0.027442  0.322051 -0.956617 -0.013039      1  \n",
              "2  0.075929  0.206610  0.012981 -0.163731 -0.067050      1  \n",
              "3  0.076000  0.211705  0.011877 -0.158770 -0.065310      1  \n",
              "4 -0.315605  2.703383 -2.071374  1.207711 -0.306081      1  \n",
              "\n",
              "[5 rows x 23 columns]"
            ]
          },
          "execution_count": 18,
          "metadata": {},
          "output_type": "execute_result"
        }
      ],
      "source": [
        "# combine reduced features into a dataframe for easy manipulation\n",
        "df_train_pca = pd.DataFrame(X_train_pca)\n",
        "df_train_pca['Class'] = y_train.values\n",
        "df_train_pca.head()"
      ]
    },
    {
      "cell_type": "code",
      "execution_count": 19,
      "metadata": {
        "id": "4WvdetM4Poqf"
      },
      "outputs": [],
      "source": [
        "# generates the correlation matrix\n",
        "pca_corr_matrix= df_train_pca.corr()"
      ]
    },
    {
      "cell_type": "code",
      "execution_count": 20,
      "metadata": {
        "colab": {
          "base_uri": "https://localhost:8080/",
          "height": 768
        },
        "id": "xsvIUpv9TsK8",
        "outputId": "177239a6-6311-4d56-b08f-6af77f0563ef"
      },
      "outputs": [
        {
          "data": {
            "image/png": "[encoded data removed]",
            "text/plain": [
              "<Figure size 1200x1000 with 2 Axes>"
            ]
          },
          "metadata": {},
          "output_type": "display_data"
        }
      ],
      "source": [
        "#visualize the corr matrix\n",
        "\n",
        "plt.figure(figsize=(12, 10))\n",
        "sns.heatmap(pca_corr_matrix, annot=False, cmap='coolwarm', center=0,\n",
        "            linewidths=0.5, cbar_kws={'label': 'Correlation'})\n",
        "plt.title(\"Correlation Matrix of PCA Components\")\n",
        "plt.tight_layout()"
      ]
    },
    {
      "cell_type": "code",
      "execution_count": 21,
      "metadata": {
        "id": "qWZBWTY6GuXE"
      },
      "outputs": [],
      "source": [
        "# splitting into sets of features and label\n",
        "X_train, y_train = df_train_pca.drop('Class', axis=1), df_train_pca['Class']\n",
        "X_test, y_test = test_df.drop('Class', axis=1), test_df['Class']"
      ]
    },
    {
      "cell_type": "code",
      "execution_count": 22,
      "metadata": {
        "id": "xjGo1INrQI6h"
      },
      "outputs": [],
      "source": [
        "X_test_scaled = scaler.transform(X_test)\n",
        "X_test_pca = pca.transform(X_test_scaled)\n",
        "X_test = X_test_pca"
      ]
    },
    {
      "cell_type": "code",
      "execution_count": 23,
      "metadata": {
        "id": "m1vXnzqV8xBY"
      },
      "outputs": [],
      "source": [
        "# perfrom oversampling using SMOTE\n",
        "smote_resampler = SMOTE(sampling_strategy='auto', random_state=42, k_neighbors=5)\n",
        "\n",
        "X_train_res, y_train_res = smote_resampler.fit_resample(X_train, y_train)"
      ]
    },
    {
      "cell_type": "code",
      "execution_count": 24,
      "metadata": {
        "colab": {
          "base_uri": "https://localhost:8080/",
          "height": 178
        },
        "id": "MyIuu8xFG1jA",
        "outputId": "a0b3c7d6-ac96-4ff2-abaa-2449615cf661"
      },
      "outputs": [
        {
          "data": {
            "text/plain": [
              "Class\n",
              "1    35607\n",
              "0    35607\n",
              "Name: count, dtype: int64"
            ]
          },
          "execution_count": 24,
          "metadata": {},
          "output_type": "execute_result"
        }
      ],
      "source": [
        "# verifying the oversampling\n",
        "y_train_res.value_counts()"
      ]
    },
    {
      "cell_type": "code",
      "execution_count": null,
      "metadata": {},
      "outputs": [],
      "source": [
        "# train random forest classifier\n",
        "model = RandomForestClassifier(random_state=42, n_estimators=100)\n",
        "model.fit(X_train_res, y_train_res)\n",
        "\n",
        "y_pred = model.predict(X_test)"
      ]
    },
    {
      "cell_type": "code",
      "execution_count": null,
      "metadata": {},
      "outputs": [
        {
          "name": "stdout",
          "output_type": "stream",
          "text": [
            "Classification Report:\n",
            "\n",
            "              precision    recall  f1-score   support\n",
            "\n",
            "           0       1.00      1.00      1.00      3000\n",
            "           1       1.00      1.00      1.00      3000\n",
            "\n",
            "    accuracy                           1.00      6000\n",
            "   macro avg       1.00      1.00      1.00      6000\n",
            "weighted avg       1.00      1.00      1.00      6000\n",
            "\n",
            "Confusion Matrix:\n",
            "\n",
            "[[2996    4]\n",
            " [   7 2993]]\n"
          ]
        }
      ],
      "source": [
        "# evaluate the model\n",
        "print(\"Classification Report:\\n\")\n",
        "print(classification_report(y_test, y_pred))\n",
        "\n",
        "print(\"Confusion Matrix:\\n\")\n",
        "print(confusion_matrix(y_test, y_pred))"
      ]
    },
    {
      "cell_type": "code",
      "execution_count": 25,
      "metadata": {},
      "outputs": [],
      "source": [
        "# create a pipeline\n",
        "model = Pipeline([\n",
        "    ('scaler', StandardScaler()),\n",
        "    ('pca', PCA(n_components=0.95, random_state=42)),\n",
        "    ('smote', SMOTE(sampling_strategy='auto', random_state=42, k_neighbors=5)),\n",
        "    ('classifier', RandomForestClassifier(random_state=42, n_estimators=100))\n",
        "])"
      ]
    },
    {
      "cell_type": "code",
      "execution_count": 26,
      "metadata": {},
      "outputs": [],
      "source": [
        "# reinitializing X_train, y_train, X_test, y_test because previous steps modified them\n",
        "X_train = train_df.drop('Class', axis=1)\n",
        "y_train = train_df['Class']\n",
        "\n",
        "X_test = test_df.drop('Class', axis=1)\n",
        "y_test = test_df['Class']"
      ]
    },
    {
      "cell_type": "code",
      "execution_count": 27,
      "metadata": {},
      "outputs": [],
      "source": [
        "# fit the pipeline\n",
        "model.fit(X_train, y_train)\n",
        "\n",
        "# make predictions\n",
        "y_pred = model.predict(X_test)"
      ]
    },
    {
      "cell_type": "code",
      "execution_count": 29,
      "metadata": {
        "colab": {
          "base_uri": "https://localhost:8080/"
        },
        "id": "XKp2zAYhI8h1",
        "outputId": "85b3c09f-42a0-4d9c-fb35-f1528d679551"
      },
      "outputs": [
        {
          "name": "stdout",
          "output_type": "stream",
          "text": [
            "Classification Report:\n",
            "\n",
            "              precision    recall  f1-score   support\n",
            "\n",
            "           0       1.00      1.00      1.00      3000\n",
            "           1       1.00      1.00      1.00      3000\n",
            "\n",
            "    accuracy                           1.00      6000\n",
            "   macro avg       1.00      1.00      1.00      6000\n",
            "weighted avg       1.00      1.00      1.00      6000\n",
            "\n",
            "Confusion Matrix:\n",
            "\n",
            "[[2996    4]\n",
            " [   7 2993]]\n"
          ]
        }
      ],
      "source": [
        "# evaluate the model\n",
        "print(\"Classification Report:\\n\")\n",
        "print(classification_report(y_test, y_pred))\n",
        "\n",
        "print(\"Confusion Matrix:\\n\")\n",
        "print(confusion_matrix(y_test, y_pred))"
      ]
    },
    {
      "cell_type": "code",
      "execution_count": 30,
      "metadata": {
        "colab": {
          "base_uri": "https://localhost:8080/"
        },
        "id": "gSWnJZ4MJUVr",
        "outputId": "ffdcf1af-8cb7-455f-8438-085e4df5217b"
      },
      "outputs": [
        {
          "data": {
            "text/plain": [
              "['ddos_pca_1.pkl']"
            ]
          },
          "execution_count": 30,
          "metadata": {},
          "output_type": "execute_result"
        }
      ],
      "source": [
        "#save the model, scaler and pca\n",
        "joblib.dump(model, 'ddos_random_forest_model_pipeline_1.pkl')\n"
      ]
    }
  ],
  "metadata": {
    "colab": {
      "provenance": []
    },
    "kernelspec": {
      "display_name": "Python 3",
      "name": "python3"
    },
    "language_info": {
      "codemirror_mode": {
        "name": "ipython",
        "version": 3
      },
      "file_extension": ".py",
      "mimetype": "text/x-python",
      "name": "python",
      "nbconvert_exporter": "python",
      "pygments_lexer": "ipython3",
      "version": "3.13.1"
    }
  },
  "nbformat": 4,
  "nbformat_minor": 0
}
